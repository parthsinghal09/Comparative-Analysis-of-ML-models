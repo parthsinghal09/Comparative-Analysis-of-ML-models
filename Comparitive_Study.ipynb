{
 "cells": [
  {
   "cell_type": "code",
   "execution_count": 190,
   "metadata": {},
   "outputs": [],
   "source": [
    "import pandas as pd\n",
    "import numpy as np \n",
    "import matplotlib.pyplot as plt\n",
    "from sklearn.linear_model import LogisticRegression\n",
    "from sklearn.linear_model import Perceptron\n",
    "from sklearn.svm import SVC  \n",
    "from sklearn.naive_bayes import GaussianNB\n",
    "from sklearn.discriminant_analysis import LinearDiscriminantAnalysis\n",
    "from sklearn.neural_network import MLPClassifier\n",
    "from sklearn.metrics import accuracy_score\n",
    "import statistics"
   ]
  },
  {
   "cell_type": "code",
   "execution_count": 86,
   "metadata": {},
   "outputs": [],
   "source": [
    "path = \"dataset_comb.csv\""
   ]
  },
  {
   "cell_type": "code",
   "execution_count": 87,
   "metadata": {},
   "outputs": [],
   "source": [
    "df = pd.read_csv(path)"
   ]
  },
  {
   "cell_type": "code",
   "execution_count": 88,
   "metadata": {},
   "outputs": [],
   "source": [
    "df = df.sample(frac = 1)"
   ]
  },
  {
   "cell_type": "code",
   "execution_count": 89,
   "metadata": {},
   "outputs": [
    {
     "data": {
      "text/plain": [
       "Index(['id', 'Area', 'MajorAxisLength', 'MinorAxisLength', 'Eccentricity',\n",
       "       'ConvexArea', 'EquivDiameter', 'Extent', 'Perimeter', 'Roundness',\n",
       "       'AspectRation', 'Class'],\n",
       "      dtype='object')"
      ]
     },
     "execution_count": 89,
     "metadata": {},
     "output_type": "execute_result"
    }
   ],
   "source": [
    "df.columns"
   ]
  },
  {
   "cell_type": "code",
   "execution_count": 90,
   "metadata": {},
   "outputs": [
    {
     "data": {
      "text/plain": [
       "jasmine    9985\n",
       "Gonen      8200\n",
       "Name: Class, dtype: int64"
      ]
     },
     "execution_count": 90,
     "metadata": {},
     "output_type": "execute_result"
    }
   ],
   "source": [
    "df['Class'].value_counts()"
   ]
  },
  {
   "cell_type": "code",
   "execution_count": 91,
   "metadata": {},
   "outputs": [],
   "source": [
    "df = df.drop(['id'], axis = 1)"
   ]
  },
  {
   "cell_type": "code",
   "execution_count": 92,
   "metadata": {},
   "outputs": [
    {
     "data": {
      "text/html": [
       "<div>\n",
       "<style scoped>\n",
       "    .dataframe tbody tr th:only-of-type {\n",
       "        vertical-align: middle;\n",
       "    }\n",
       "\n",
       "    .dataframe tbody tr th {\n",
       "        vertical-align: top;\n",
       "    }\n",
       "\n",
       "    .dataframe thead th {\n",
       "        text-align: right;\n",
       "    }\n",
       "</style>\n",
       "<table border=\"1\" class=\"dataframe\">\n",
       "  <thead>\n",
       "    <tr style=\"text-align: right;\">\n",
       "      <th></th>\n",
       "      <th>Area</th>\n",
       "      <th>MajorAxisLength</th>\n",
       "      <th>MinorAxisLength</th>\n",
       "      <th>Eccentricity</th>\n",
       "      <th>ConvexArea</th>\n",
       "      <th>EquivDiameter</th>\n",
       "      <th>Extent</th>\n",
       "      <th>Perimeter</th>\n",
       "      <th>Roundness</th>\n",
       "      <th>AspectRation</th>\n",
       "      <th>Class</th>\n",
       "    </tr>\n",
       "  </thead>\n",
       "  <tbody>\n",
       "    <tr>\n",
       "      <th>12250</th>\n",
       "      <td>9438</td>\n",
       "      <td>161.083574</td>\n",
       "      <td>75.264812</td>\n",
       "      <td>0.884130</td>\n",
       "      <td>9668</td>\n",
       "      <td>109.621325</td>\n",
       "      <td>0.690973</td>\n",
       "      <td>386.763</td>\n",
       "      <td>0.792866</td>\n",
       "      <td>2.140224</td>\n",
       "      <td>Gonen</td>\n",
       "    </tr>\n",
       "    <tr>\n",
       "      <th>9281</th>\n",
       "      <td>5650</td>\n",
       "      <td>153.044539</td>\n",
       "      <td>47.512411</td>\n",
       "      <td>0.950590</td>\n",
       "      <td>5788</td>\n",
       "      <td>84.816292</td>\n",
       "      <td>0.674305</td>\n",
       "      <td>333.668</td>\n",
       "      <td>0.637719</td>\n",
       "      <td>3.221149</td>\n",
       "      <td>jasmine</td>\n",
       "    </tr>\n",
       "    <tr>\n",
       "      <th>17583</th>\n",
       "      <td>8852</td>\n",
       "      <td>164.424917</td>\n",
       "      <td>69.285681</td>\n",
       "      <td>0.906883</td>\n",
       "      <td>9025</td>\n",
       "      <td>106.163630</td>\n",
       "      <td>0.590133</td>\n",
       "      <td>382.283</td>\n",
       "      <td>0.761169</td>\n",
       "      <td>2.373144</td>\n",
       "      <td>Gonen</td>\n",
       "    </tr>\n",
       "    <tr>\n",
       "      <th>2021</th>\n",
       "      <td>6019</td>\n",
       "      <td>145.911839</td>\n",
       "      <td>53.410877</td>\n",
       "      <td>0.930596</td>\n",
       "      <td>6170</td>\n",
       "      <td>87.542155</td>\n",
       "      <td>0.507675</td>\n",
       "      <td>333.360</td>\n",
       "      <td>0.680624</td>\n",
       "      <td>2.731875</td>\n",
       "      <td>jasmine</td>\n",
       "    </tr>\n",
       "    <tr>\n",
       "      <th>1248</th>\n",
       "      <td>6331</td>\n",
       "      <td>148.318323</td>\n",
       "      <td>55.921753</td>\n",
       "      <td>0.926197</td>\n",
       "      <td>6539</td>\n",
       "      <td>89.782401</td>\n",
       "      <td>0.615078</td>\n",
       "      <td>341.567</td>\n",
       "      <td>0.681915</td>\n",
       "      <td>2.652247</td>\n",
       "      <td>jasmine</td>\n",
       "    </tr>\n",
       "    <tr>\n",
       "      <th>...</th>\n",
       "      <td>...</td>\n",
       "      <td>...</td>\n",
       "      <td>...</td>\n",
       "      <td>...</td>\n",
       "      <td>...</td>\n",
       "      <td>...</td>\n",
       "      <td>...</td>\n",
       "      <td>...</td>\n",
       "      <td>...</td>\n",
       "      <td>...</td>\n",
       "      <td>...</td>\n",
       "    </tr>\n",
       "    <tr>\n",
       "      <th>11762</th>\n",
       "      <td>8679</td>\n",
       "      <td>154.317783</td>\n",
       "      <td>72.818877</td>\n",
       "      <td>0.881665</td>\n",
       "      <td>9002</td>\n",
       "      <td>105.121102</td>\n",
       "      <td>0.700315</td>\n",
       "      <td>376.119</td>\n",
       "      <td>0.770955</td>\n",
       "      <td>2.119200</td>\n",
       "      <td>Gonen</td>\n",
       "    </tr>\n",
       "    <tr>\n",
       "      <th>12172</th>\n",
       "      <td>8698</td>\n",
       "      <td>155.109378</td>\n",
       "      <td>72.581012</td>\n",
       "      <td>0.883763</td>\n",
       "      <td>8957</td>\n",
       "      <td>105.236104</td>\n",
       "      <td>0.576790</td>\n",
       "      <td>378.111</td>\n",
       "      <td>0.764523</td>\n",
       "      <td>2.137052</td>\n",
       "      <td>Gonen</td>\n",
       "    </tr>\n",
       "    <tr>\n",
       "      <th>10126</th>\n",
       "      <td>6114</td>\n",
       "      <td>162.017752</td>\n",
       "      <td>48.565934</td>\n",
       "      <td>0.954016</td>\n",
       "      <td>6243</td>\n",
       "      <td>88.230304</td>\n",
       "      <td>0.794748</td>\n",
       "      <td>350.646</td>\n",
       "      <td>0.624881</td>\n",
       "      <td>3.336037</td>\n",
       "      <td>jasmine</td>\n",
       "    </tr>\n",
       "    <tr>\n",
       "      <th>8208</th>\n",
       "      <td>6654</td>\n",
       "      <td>164.277226</td>\n",
       "      <td>52.537835</td>\n",
       "      <td>0.947481</td>\n",
       "      <td>6825</td>\n",
       "      <td>92.044206</td>\n",
       "      <td>0.800433</td>\n",
       "      <td>362.687</td>\n",
       "      <td>0.635666</td>\n",
       "      <td>3.126837</td>\n",
       "      <td>jasmine</td>\n",
       "    </tr>\n",
       "    <tr>\n",
       "      <th>11768</th>\n",
       "      <td>9485</td>\n",
       "      <td>160.819781</td>\n",
       "      <td>75.882302</td>\n",
       "      <td>0.881681</td>\n",
       "      <td>9731</td>\n",
       "      <td>109.893936</td>\n",
       "      <td>0.596391</td>\n",
       "      <td>389.651</td>\n",
       "      <td>0.785047</td>\n",
       "      <td>2.119332</td>\n",
       "      <td>Gonen</td>\n",
       "    </tr>\n",
       "  </tbody>\n",
       "</table>\n",
       "<p>18185 rows × 11 columns</p>\n",
       "</div>"
      ],
      "text/plain": [
       "       Area  MajorAxisLength  MinorAxisLength  Eccentricity  ConvexArea  \\\n",
       "12250  9438       161.083574        75.264812      0.884130        9668   \n",
       "9281   5650       153.044539        47.512411      0.950590        5788   \n",
       "17583  8852       164.424917        69.285681      0.906883        9025   \n",
       "2021   6019       145.911839        53.410877      0.930596        6170   \n",
       "1248   6331       148.318323        55.921753      0.926197        6539   \n",
       "...     ...              ...              ...           ...         ...   \n",
       "11762  8679       154.317783        72.818877      0.881665        9002   \n",
       "12172  8698       155.109378        72.581012      0.883763        8957   \n",
       "10126  6114       162.017752        48.565934      0.954016        6243   \n",
       "8208   6654       164.277226        52.537835      0.947481        6825   \n",
       "11768  9485       160.819781        75.882302      0.881681        9731   \n",
       "\n",
       "       EquivDiameter    Extent  Perimeter  Roundness  AspectRation    Class  \n",
       "12250     109.621325  0.690973    386.763   0.792866      2.140224    Gonen  \n",
       "9281       84.816292  0.674305    333.668   0.637719      3.221149  jasmine  \n",
       "17583     106.163630  0.590133    382.283   0.761169      2.373144    Gonen  \n",
       "2021       87.542155  0.507675    333.360   0.680624      2.731875  jasmine  \n",
       "1248       89.782401  0.615078    341.567   0.681915      2.652247  jasmine  \n",
       "...              ...       ...        ...        ...           ...      ...  \n",
       "11762     105.121102  0.700315    376.119   0.770955      2.119200    Gonen  \n",
       "12172     105.236104  0.576790    378.111   0.764523      2.137052    Gonen  \n",
       "10126      88.230304  0.794748    350.646   0.624881      3.336037  jasmine  \n",
       "8208       92.044206  0.800433    362.687   0.635666      3.126837  jasmine  \n",
       "11768     109.893936  0.596391    389.651   0.785047      2.119332    Gonen  \n",
       "\n",
       "[18185 rows x 11 columns]"
      ]
     },
     "execution_count": 92,
     "metadata": {},
     "output_type": "execute_result"
    }
   ],
   "source": [
    "df"
   ]
  },
  {
   "cell_type": "code",
   "execution_count": 93,
   "metadata": {},
   "outputs": [],
   "source": [
    "#min-max normalisation\n",
    "#0 - jasmine & 1 - Gonen\n",
    "\n",
    "for column in df.columns:\n",
    "    if column!='Class':\n",
    "        maxx = df[column].max()\n",
    "        minn = df[column].min()\n",
    "        for e in df[column]:\n",
    "            e1 = (maxx - e)/(maxx - minn)\n",
    "            df[column] = df[column].replace(e, e1)\n",
    "    elif column == 'Class':\n",
    "        for e in df[column]:\n",
    "            if e == 'jasmine':\n",
    "                df[column] = df[column].replace(e, 0)\n",
    "            elif e == 'Gonen':\n",
    "                df[column] = df[column].replace(e, 1)"
   ]
  },
  {
   "cell_type": "code",
   "execution_count": 94,
   "metadata": {},
   "outputs": [
    {
     "data": {
      "text/html": [
       "<div>\n",
       "<style scoped>\n",
       "    .dataframe tbody tr th:only-of-type {\n",
       "        vertical-align: middle;\n",
       "    }\n",
       "\n",
       "    .dataframe tbody tr th {\n",
       "        vertical-align: top;\n",
       "    }\n",
       "\n",
       "    .dataframe thead th {\n",
       "        text-align: right;\n",
       "    }\n",
       "</style>\n",
       "<table border=\"1\" class=\"dataframe\">\n",
       "  <thead>\n",
       "    <tr style=\"text-align: right;\">\n",
       "      <th></th>\n",
       "      <th>Area</th>\n",
       "      <th>MajorAxisLength</th>\n",
       "      <th>MinorAxisLength</th>\n",
       "      <th>Eccentricity</th>\n",
       "      <th>ConvexArea</th>\n",
       "      <th>EquivDiameter</th>\n",
       "      <th>Extent</th>\n",
       "      <th>Perimeter</th>\n",
       "      <th>Roundness</th>\n",
       "      <th>AspectRation</th>\n",
       "      <th>Class</th>\n",
       "    </tr>\n",
       "  </thead>\n",
       "  <tbody>\n",
       "    <tr>\n",
       "      <th>12250</th>\n",
       "      <td>0.100416</td>\n",
       "      <td>0.202862</td>\n",
       "      <td>0.151346</td>\n",
       "      <td>0.284853</td>\n",
       "      <td>0.158975</td>\n",
       "      <td>0.076639</td>\n",
       "      <td>0.388609</td>\n",
       "      <td>0.390849</td>\n",
       "      <td>0.153230</td>\n",
       "      <td>0.693742</td>\n",
       "      <td>1</td>\n",
       "    </tr>\n",
       "    <tr>\n",
       "      <th>9281</th>\n",
       "      <td>0.593132</td>\n",
       "      <td>0.276562</td>\n",
       "      <td>0.727830</td>\n",
       "      <td>0.055780</td>\n",
       "      <td>0.619291</td>\n",
       "      <td>1.954015</td>\n",
       "      <td>0.421725</td>\n",
       "      <td>0.561301</td>\n",
       "      <td>0.365715</td>\n",
       "      <td>0.270467</td>\n",
       "      <td>0</td>\n",
       "    </tr>\n",
       "    <tr>\n",
       "      <th>17583</th>\n",
       "      <td>0.176639</td>\n",
       "      <td>0.172230</td>\n",
       "      <td>0.275547</td>\n",
       "      <td>0.206428</td>\n",
       "      <td>0.235259</td>\n",
       "      <td>1.954014</td>\n",
       "      <td>0.588952</td>\n",
       "      <td>0.405232</td>\n",
       "      <td>0.196641</td>\n",
       "      <td>0.602534</td>\n",
       "      <td>1</td>\n",
       "    </tr>\n",
       "    <tr>\n",
       "      <th>2021</th>\n",
       "      <td>0.545135</td>\n",
       "      <td>0.341952</td>\n",
       "      <td>0.605305</td>\n",
       "      <td>0.124698</td>\n",
       "      <td>0.573971</td>\n",
       "      <td>1.954015</td>\n",
       "      <td>0.752776</td>\n",
       "      <td>0.562290</td>\n",
       "      <td>0.306953</td>\n",
       "      <td>0.462060</td>\n",
       "      <td>0</td>\n",
       "    </tr>\n",
       "    <tr>\n",
       "      <th>1248</th>\n",
       "      <td>0.504553</td>\n",
       "      <td>0.319890</td>\n",
       "      <td>0.553148</td>\n",
       "      <td>0.139857</td>\n",
       "      <td>0.530193</td>\n",
       "      <td>1.954015</td>\n",
       "      <td>0.539393</td>\n",
       "      <td>1.630759</td>\n",
       "      <td>0.305185</td>\n",
       "      <td>0.493241</td>\n",
       "      <td>0</td>\n",
       "    </tr>\n",
       "    <tr>\n",
       "      <th>...</th>\n",
       "      <td>...</td>\n",
       "      <td>...</td>\n",
       "      <td>...</td>\n",
       "      <td>...</td>\n",
       "      <td>...</td>\n",
       "      <td>...</td>\n",
       "      <td>...</td>\n",
       "      <td>...</td>\n",
       "      <td>...</td>\n",
       "      <td>...</td>\n",
       "      <td>...</td>\n",
       "    </tr>\n",
       "    <tr>\n",
       "      <th>11762</th>\n",
       "      <td>0.199142</td>\n",
       "      <td>0.264889</td>\n",
       "      <td>0.202154</td>\n",
       "      <td>0.293351</td>\n",
       "      <td>0.237988</td>\n",
       "      <td>1.954015</td>\n",
       "      <td>0.370049</td>\n",
       "      <td>0.425020</td>\n",
       "      <td>0.183239</td>\n",
       "      <td>0.701975</td>\n",
       "      <td>1</td>\n",
       "    </tr>\n",
       "    <tr>\n",
       "      <th>12172</th>\n",
       "      <td>0.196670</td>\n",
       "      <td>0.257632</td>\n",
       "      <td>0.207095</td>\n",
       "      <td>0.286118</td>\n",
       "      <td>0.243327</td>\n",
       "      <td>1.954024</td>\n",
       "      <td>0.615461</td>\n",
       "      <td>0.418625</td>\n",
       "      <td>0.192048</td>\n",
       "      <td>0.694984</td>\n",
       "      <td>1</td>\n",
       "    </tr>\n",
       "    <tr>\n",
       "      <th>10126</th>\n",
       "      <td>0.532778</td>\n",
       "      <td>0.194298</td>\n",
       "      <td>0.705945</td>\n",
       "      <td>0.043974</td>\n",
       "      <td>0.565310</td>\n",
       "      <td>1.954015</td>\n",
       "      <td>0.182433</td>\n",
       "      <td>0.506796</td>\n",
       "      <td>0.383296</td>\n",
       "      <td>0.225478</td>\n",
       "      <td>0</td>\n",
       "    </tr>\n",
       "    <tr>\n",
       "      <th>8208</th>\n",
       "      <td>0.462539</td>\n",
       "      <td>0.173584</td>\n",
       "      <td>0.623440</td>\n",
       "      <td>0.066497</td>\n",
       "      <td>0.496263</td>\n",
       "      <td>1.954015</td>\n",
       "      <td>0.171139</td>\n",
       "      <td>1.630977</td>\n",
       "      <td>0.368527</td>\n",
       "      <td>0.307398</td>\n",
       "      <td>0</td>\n",
       "    </tr>\n",
       "    <tr>\n",
       "      <th>11768</th>\n",
       "      <td>0.094303</td>\n",
       "      <td>0.205281</td>\n",
       "      <td>0.138520</td>\n",
       "      <td>0.293297</td>\n",
       "      <td>0.151501</td>\n",
       "      <td>1.953442</td>\n",
       "      <td>0.576520</td>\n",
       "      <td>0.381578</td>\n",
       "      <td>0.163939</td>\n",
       "      <td>0.701923</td>\n",
       "      <td>1</td>\n",
       "    </tr>\n",
       "  </tbody>\n",
       "</table>\n",
       "<p>18185 rows × 11 columns</p>\n",
       "</div>"
      ],
      "text/plain": [
       "           Area  MajorAxisLength  MinorAxisLength  Eccentricity  ConvexArea  \\\n",
       "12250  0.100416         0.202862         0.151346      0.284853    0.158975   \n",
       "9281   0.593132         0.276562         0.727830      0.055780    0.619291   \n",
       "17583  0.176639         0.172230         0.275547      0.206428    0.235259   \n",
       "2021   0.545135         0.341952         0.605305      0.124698    0.573971   \n",
       "1248   0.504553         0.319890         0.553148      0.139857    0.530193   \n",
       "...         ...              ...              ...           ...         ...   \n",
       "11762  0.199142         0.264889         0.202154      0.293351    0.237988   \n",
       "12172  0.196670         0.257632         0.207095      0.286118    0.243327   \n",
       "10126  0.532778         0.194298         0.705945      0.043974    0.565310   \n",
       "8208   0.462539         0.173584         0.623440      0.066497    0.496263   \n",
       "11768  0.094303         0.205281         0.138520      0.293297    0.151501   \n",
       "\n",
       "       EquivDiameter    Extent  Perimeter  Roundness  AspectRation  Class  \n",
       "12250       0.076639  0.388609   0.390849   0.153230      0.693742      1  \n",
       "9281        1.954015  0.421725   0.561301   0.365715      0.270467      0  \n",
       "17583       1.954014  0.588952   0.405232   0.196641      0.602534      1  \n",
       "2021        1.954015  0.752776   0.562290   0.306953      0.462060      0  \n",
       "1248        1.954015  0.539393   1.630759   0.305185      0.493241      0  \n",
       "...              ...       ...        ...        ...           ...    ...  \n",
       "11762       1.954015  0.370049   0.425020   0.183239      0.701975      1  \n",
       "12172       1.954024  0.615461   0.418625   0.192048      0.694984      1  \n",
       "10126       1.954015  0.182433   0.506796   0.383296      0.225478      0  \n",
       "8208        1.954015  0.171139   1.630977   0.368527      0.307398      0  \n",
       "11768       1.953442  0.576520   0.381578   0.163939      0.701923      1  \n",
       "\n",
       "[18185 rows x 11 columns]"
      ]
     },
     "execution_count": 94,
     "metadata": {},
     "output_type": "execute_result"
    }
   ],
   "source": [
    "df"
   ]
  },
  {
   "cell_type": "code",
   "execution_count": 101,
   "metadata": {},
   "outputs": [
    {
     "data": {
      "text/plain": [
       "(18185, 11)"
      ]
     },
     "execution_count": 101,
     "metadata": {},
     "output_type": "execute_result"
    }
   ],
   "source": [
    "data = df.to_numpy()\n",
    "data.shape"
   ]
  },
  {
   "cell_type": "code",
   "execution_count": 102,
   "metadata": {},
   "outputs": [],
   "source": [
    "data_g = np.array_split(data, 7)"
   ]
  },
  {
   "cell_type": "markdown",
   "metadata": {},
   "source": [
    "# Logistic Regression"
   ]
  },
  {
   "cell_type": "code",
   "execution_count": 157,
   "metadata": {},
   "outputs": [
    {
     "name": "stderr",
     "output_type": "stream",
     "text": [
      "C:\\Users\\titan\\Downloads\\anaconda\\lib\\site-packages\\sklearn\\linear_model\\logistic.py:432: FutureWarning: Default solver will be changed to 'lbfgs' in 0.22. Specify a solver to silence this warning.\n",
      "  FutureWarning)\n",
      "C:\\Users\\titan\\Downloads\\anaconda\\lib\\site-packages\\sklearn\\linear_model\\logistic.py:432: FutureWarning: Default solver will be changed to 'lbfgs' in 0.22. Specify a solver to silence this warning.\n",
      "  FutureWarning)\n",
      "C:\\Users\\titan\\Downloads\\anaconda\\lib\\site-packages\\sklearn\\linear_model\\logistic.py:432: FutureWarning: Default solver will be changed to 'lbfgs' in 0.22. Specify a solver to silence this warning.\n",
      "  FutureWarning)\n",
      "C:\\Users\\titan\\Downloads\\anaconda\\lib\\site-packages\\sklearn\\linear_model\\logistic.py:432: FutureWarning: Default solver will be changed to 'lbfgs' in 0.22. Specify a solver to silence this warning.\n",
      "  FutureWarning)\n",
      "C:\\Users\\titan\\Downloads\\anaconda\\lib\\site-packages\\sklearn\\linear_model\\logistic.py:432: FutureWarning: Default solver will be changed to 'lbfgs' in 0.22. Specify a solver to silence this warning.\n",
      "  FutureWarning)\n",
      "C:\\Users\\titan\\Downloads\\anaconda\\lib\\site-packages\\sklearn\\linear_model\\logistic.py:432: FutureWarning: Default solver will be changed to 'lbfgs' in 0.22. Specify a solver to silence this warning.\n",
      "  FutureWarning)\n",
      "C:\\Users\\titan\\Downloads\\anaconda\\lib\\site-packages\\sklearn\\linear_model\\logistic.py:432: FutureWarning: Default solver will be changed to 'lbfgs' in 0.22. Specify a solver to silence this warning.\n",
      "  FutureWarning)\n"
     ]
    }
   ],
   "source": [
    "accuracy_log_test = []\n",
    "accuracy_log_train = []\n",
    "\n",
    "for i in range(7):\n",
    "    test_data = data_g[i]\n",
    "    test_data_x = []\n",
    "    test_data_y = []\n",
    "    train_data_x = []\n",
    "    train_data_y = []\n",
    "    for j in range(7):\n",
    "        if j!=i:\n",
    "            for w in range(len(data_g[j])):\n",
    "                train_data_x.append(data_g[j][w][:10])\n",
    "                train_data_y.append(data_g[j][w][10])\n",
    "        elif j == i:\n",
    "            for w in range(len(data_g[j])):\n",
    "                test_data_x.append(data_g[j][w][:10])\n",
    "                test_data_y.append(data_g[j][w][10])\n",
    "                \n",
    "    test_data_xn = np.array(test_data_x)\n",
    "    train_data_xn = np.array(train_data_x)\n",
    "    test_data_yn = np.array(test_data_y)\n",
    "    train_data_yn = np.array(train_data_y)\n",
    "    \n",
    "    clf = LogisticRegression(random_state = 0)\n",
    "    clf.fit(train_data_xn, train_data_yn)\n",
    "    \n",
    "    test_pred_y_log = clf.predict(test_data_xn)\n",
    "    train_pred_y_log = clf.predict(train_data_xn)\n",
    "    \n",
    "    acc1_log = accuracy_score(test_data_yn, test_pred_y_log)\n",
    "    accuracy_log_test.append(acc1_log)\n",
    "    \n",
    "    acc2_log = accuracy_score(train_data_yn, train_pred_y_log)\n",
    "    accuracy_log_train.append(acc2_log)"
   ]
  },
  {
   "cell_type": "code",
   "execution_count": 202,
   "metadata": {},
   "outputs": [
    {
     "name": "stdout",
     "output_type": "stream",
     "text": [
      "Mean accuracy for test set =  0.9869672986379864\n"
     ]
    }
   ],
   "source": [
    "print(\"Mean accuracy for test set = \", statistics.mean(accuracy_log_test))"
   ]
  },
  {
   "cell_type": "code",
   "execution_count": 203,
   "metadata": {},
   "outputs": [
    {
     "name": "stdout",
     "output_type": "stream",
     "text": [
      "Mean accuracy for train set =  0.9869397846070092\n"
     ]
    }
   ],
   "source": [
    "print(\"Mean accuracy for train set = \", statistics.mean(accuracy_log_train))"
   ]
  },
  {
   "cell_type": "code",
   "execution_count": null,
   "metadata": {},
   "outputs": [],
   "source": []
  },
  {
   "cell_type": "markdown",
   "metadata": {},
   "source": [
    "# Linear Perceptron"
   ]
  },
  {
   "cell_type": "code",
   "execution_count": 161,
   "metadata": {},
   "outputs": [],
   "source": [
    "accuracy_lp_test = []\n",
    "accuracy_lp_train = []\n",
    "\n",
    "for i in range(7):\n",
    "    test_data = data_g[i]\n",
    "    test_data_x = []\n",
    "    test_data_y = []\n",
    "    train_data_x = []\n",
    "    train_data_y = []\n",
    "    for j in range(7):\n",
    "        if j!=i:\n",
    "            for w in range(len(data_g[j])):\n",
    "                train_data_x.append(data_g[j][w][:10])\n",
    "                train_data_y.append(data_g[j][w][10])\n",
    "        elif j == i:\n",
    "            for w in range(len(data_g[j])):\n",
    "                test_data_x.append(data_g[j][w][:10])\n",
    "                test_data_y.append(data_g[j][w][10])\n",
    "                \n",
    "    test_data_xn = np.array(test_data_x)\n",
    "    train_data_xn = np.array(train_data_x)\n",
    "    test_data_yn = np.array(test_data_y)\n",
    "    train_data_yn = np.array(train_data_y)\n",
    "    \n",
    "    clf = Perceptron(tol = 1e-3, random_state=0)\n",
    "    clf.fit(train_data_xn, train_data_yn)\n",
    "    \n",
    "    test_pred_y_lp = clf.predict(test_data_xn)\n",
    "    train_pred_y_lp = clf.predict(train_data_xn)\n",
    "    \n",
    "    acc1_lp = accuracy_score(test_data_yn, test_pred_y_lp)\n",
    "    accuracy_lp_test.append(acc1_lp)\n",
    "    \n",
    "    acc2_lp = accuracy_score(train_data_yn, train_pred_y_lp)\n",
    "    accuracy_lp_train.append(acc2_lp)"
   ]
  },
  {
   "cell_type": "code",
   "execution_count": 200,
   "metadata": {},
   "outputs": [
    {
     "name": "stdout",
     "output_type": "stream",
     "text": [
      "Mean accuracy for test set =  0.9762997310002605\n"
     ]
    }
   ],
   "source": [
    "print(\"Mean accuracy for test set = \", statistics.mean(accuracy_lp_test))"
   ]
  },
  {
   "cell_type": "code",
   "execution_count": 201,
   "metadata": {},
   "outputs": [
    {
     "name": "stdout",
     "output_type": "stream",
     "text": [
      "Mean accuracy for train set =  0.9764640136062048\n"
     ]
    }
   ],
   "source": [
    "print(\"Mean accuracy for train set = \", statistics.mean(accuracy_lp_train))"
   ]
  },
  {
   "cell_type": "code",
   "execution_count": null,
   "metadata": {},
   "outputs": [],
   "source": []
  },
  {
   "cell_type": "markdown",
   "metadata": {},
   "source": [
    "# SVM"
   ]
  },
  {
   "cell_type": "code",
   "execution_count": 164,
   "metadata": {},
   "outputs": [
    {
     "name": "stderr",
     "output_type": "stream",
     "text": [
      "C:\\Users\\titan\\Downloads\\anaconda\\lib\\site-packages\\sklearn\\svm\\base.py:193: FutureWarning: The default value of gamma will change from 'auto' to 'scale' in version 0.22 to account better for unscaled features. Set gamma explicitly to 'auto' or 'scale' to avoid this warning.\n",
      "  \"avoid this warning.\", FutureWarning)\n",
      "C:\\Users\\titan\\Downloads\\anaconda\\lib\\site-packages\\sklearn\\svm\\base.py:193: FutureWarning: The default value of gamma will change from 'auto' to 'scale' in version 0.22 to account better for unscaled features. Set gamma explicitly to 'auto' or 'scale' to avoid this warning.\n",
      "  \"avoid this warning.\", FutureWarning)\n",
      "C:\\Users\\titan\\Downloads\\anaconda\\lib\\site-packages\\sklearn\\svm\\base.py:193: FutureWarning: The default value of gamma will change from 'auto' to 'scale' in version 0.22 to account better for unscaled features. Set gamma explicitly to 'auto' or 'scale' to avoid this warning.\n",
      "  \"avoid this warning.\", FutureWarning)\n",
      "C:\\Users\\titan\\Downloads\\anaconda\\lib\\site-packages\\sklearn\\svm\\base.py:193: FutureWarning: The default value of gamma will change from 'auto' to 'scale' in version 0.22 to account better for unscaled features. Set gamma explicitly to 'auto' or 'scale' to avoid this warning.\n",
      "  \"avoid this warning.\", FutureWarning)\n",
      "C:\\Users\\titan\\Downloads\\anaconda\\lib\\site-packages\\sklearn\\svm\\base.py:193: FutureWarning: The default value of gamma will change from 'auto' to 'scale' in version 0.22 to account better for unscaled features. Set gamma explicitly to 'auto' or 'scale' to avoid this warning.\n",
      "  \"avoid this warning.\", FutureWarning)\n",
      "C:\\Users\\titan\\Downloads\\anaconda\\lib\\site-packages\\sklearn\\svm\\base.py:193: FutureWarning: The default value of gamma will change from 'auto' to 'scale' in version 0.22 to account better for unscaled features. Set gamma explicitly to 'auto' or 'scale' to avoid this warning.\n",
      "  \"avoid this warning.\", FutureWarning)\n",
      "C:\\Users\\titan\\Downloads\\anaconda\\lib\\site-packages\\sklearn\\svm\\base.py:193: FutureWarning: The default value of gamma will change from 'auto' to 'scale' in version 0.22 to account better for unscaled features. Set gamma explicitly to 'auto' or 'scale' to avoid this warning.\n",
      "  \"avoid this warning.\", FutureWarning)\n"
     ]
    }
   ],
   "source": [
    "accuracy_svm_test = []\n",
    "accuracy_svm_train = []\n",
    "\n",
    "for i in range(7):\n",
    "    test_data = data_g[i]\n",
    "    test_data_x = []\n",
    "    test_data_y = []\n",
    "    train_data_x = []\n",
    "    train_data_y = []\n",
    "    for j in range(7):\n",
    "        if j!=i:\n",
    "            for w in range(len(data_g[j])):\n",
    "                train_data_x.append(data_g[j][w][:10])\n",
    "                train_data_y.append(data_g[j][w][10])\n",
    "        elif j == i:\n",
    "            for w in range(len(data_g[j])):\n",
    "                test_data_x.append(data_g[j][w][:10])\n",
    "                test_data_y.append(data_g[j][w][10])\n",
    "                \n",
    "    test_data_xn = np.array(test_data_x)\n",
    "    train_data_xn = np.array(train_data_x)\n",
    "    test_data_yn = np.array(test_data_y)\n",
    "    train_data_yn = np.array(train_data_y)\n",
    "    \n",
    "    clf = SVC(kernel = 'rbf')\n",
    "    clf.fit(train_data_xn, train_data_yn)\n",
    "    \n",
    "    test_pred_y_svm = clf.predict(test_data_xn)\n",
    "    train_pred_y_svm = clf.predict(train_data_xn)\n",
    "    \n",
    "    acc1_svm = accuracy_score(test_data_yn, test_pred_y_svm)\n",
    "    accuracy_svm_test.append(acc1_svm)\n",
    "    \n",
    "    acc2_svm = accuracy_score(train_data_yn, train_pred_y_svm)\n",
    "    accuracy_svm_train.append(acc2_svm)"
   ]
  },
  {
   "cell_type": "code",
   "execution_count": 198,
   "metadata": {},
   "outputs": [
    {
     "name": "stdout",
     "output_type": "stream",
     "text": [
      "Mean accuracy for test set =  0.9872971804086138\n"
     ]
    }
   ],
   "source": [
    "print(\"Mean accuracy for test set = \", statistics.mean(accuracy_svm_test))"
   ]
  },
  {
   "cell_type": "code",
   "execution_count": 199,
   "metadata": {},
   "outputs": [
    {
     "name": "stdout",
     "output_type": "stream",
     "text": [
      "Mean accuracy for train set =  0.9874621915058807\n"
     ]
    }
   ],
   "source": [
    "print(\"Mean accuracy for train set = \", statistics.mean(accuracy_svm_train))"
   ]
  },
  {
   "cell_type": "code",
   "execution_count": null,
   "metadata": {},
   "outputs": [],
   "source": []
  },
  {
   "cell_type": "markdown",
   "metadata": {},
   "source": [
    "# Naive Bayes"
   ]
  },
  {
   "cell_type": "code",
   "execution_count": 167,
   "metadata": {},
   "outputs": [],
   "source": [
    "accuracy_nb_test = []\n",
    "accuracy_nb_train = []\n",
    "\n",
    "for i in range(7):\n",
    "    test_data = data_g[i]\n",
    "    test_data_x = []\n",
    "    test_data_y = []\n",
    "    train_data_x = []\n",
    "    train_data_y = []\n",
    "    for j in range(7):\n",
    "        if j!=i:\n",
    "            for w in range(len(data_g[j])):\n",
    "                train_data_x.append(data_g[j][w][:10])\n",
    "                train_data_y.append(data_g[j][w][10])\n",
    "        elif j == i:\n",
    "            for w in range(len(data_g[j])):\n",
    "                test_data_x.append(data_g[j][w][:10])\n",
    "                test_data_y.append(data_g[j][w][10])\n",
    "                \n",
    "    test_data_xn = np.array(test_data_x)\n",
    "    train_data_xn = np.array(train_data_x)\n",
    "    test_data_yn = np.array(test_data_y)\n",
    "    train_data_yn = np.array(train_data_y)\n",
    "    \n",
    "    clf = GaussianNB()\n",
    "    clf.fit(train_data_xn, train_data_yn)\n",
    "    \n",
    "    test_pred_y_nb = clf.predict(test_data_xn)\n",
    "    train_pred_y_nb = clf.predict(train_data_xn)\n",
    "    \n",
    "    acc1_nb = accuracy_score(test_data_yn, test_pred_y_nb)\n",
    "    accuracy_nb_test.append(acc1_nb)\n",
    "    \n",
    "    acc2_nb = accuracy_score(train_data_yn, train_pred_y_nb)\n",
    "    accuracy_nb_train.append(acc2_nb)"
   ]
  },
  {
   "cell_type": "code",
   "execution_count": 196,
   "metadata": {},
   "outputs": [
    {
     "name": "stdout",
     "output_type": "stream",
     "text": [
      "Mean accuracy for test set =  0.9844377321902908\n"
     ]
    }
   ],
   "source": [
    "print(\"Mean accuracy for test set = \", statistics.mean(accuracy_nb_test))"
   ]
  },
  {
   "cell_type": "code",
   "execution_count": 197,
   "metadata": {},
   "outputs": [
    {
     "name": "stdout",
     "output_type": "stream",
     "text": [
      "Mean accuracy for train set =  0.9846393545198554\n"
     ]
    }
   ],
   "source": [
    "print(\"Mean accuracy for train set = \", statistics.mean(accuracy_nb_train))"
   ]
  },
  {
   "cell_type": "code",
   "execution_count": null,
   "metadata": {},
   "outputs": [],
   "source": []
  },
  {
   "cell_type": "markdown",
   "metadata": {},
   "source": [
    "# Fisher Linear Discriminant"
   ]
  },
  {
   "cell_type": "code",
   "execution_count": 170,
   "metadata": {},
   "outputs": [],
   "source": [
    "accuracy_fl_test = []\n",
    "accuracy_fl_train = []\n",
    "\n",
    "for i in range(7):\n",
    "    test_data = data_g[i]\n",
    "    test_data_x = []\n",
    "    test_data_y = []\n",
    "    train_data_x = []\n",
    "    train_data_y = []\n",
    "    for j in range(7):\n",
    "        if j!=i:\n",
    "            for w in range(len(data_g[j])):\n",
    "                train_data_x.append(data_g[j][w][:10])\n",
    "                train_data_y.append(data_g[j][w][10])\n",
    "        elif j == i:\n",
    "            for w in range(len(data_g[j])):\n",
    "                test_data_x.append(data_g[j][w][:10])\n",
    "                test_data_y.append(data_g[j][w][10])\n",
    "                \n",
    "    test_data_xn = np.array(test_data_x)\n",
    "    train_data_xn = np.array(train_data_x)\n",
    "    test_data_yn = np.array(test_data_y)\n",
    "    train_data_yn = np.array(train_data_y)\n",
    "    \n",
    "    clf = LinearDiscriminantAnalysis()\n",
    "    clf.fit(train_data_xn, train_data_yn)\n",
    "    \n",
    "    test_pred_y_fl = clf.predict(test_data_xn)\n",
    "    train_pred_y_fl = clf.predict(train_data_xn)\n",
    "    \n",
    "    acc1_fl = accuracy_score(test_data_yn, test_pred_y_fl)\n",
    "    accuracy_fl_test.append(acc1_fl)\n",
    "    \n",
    "    acc2_fl = accuracy_score(train_data_yn, train_pred_y_fl)\n",
    "    accuracy_fl_train.append(acc2_fl)"
   ]
  },
  {
   "cell_type": "code",
   "execution_count": 194,
   "metadata": {},
   "outputs": [
    {
     "name": "stdout",
     "output_type": "stream",
     "text": [
      "Mean accuracy for test set =  0.9840527783731036\n"
     ]
    }
   ],
   "source": [
    "print(\"Mean accuracy for test set = \", statistics.mean(accuracy_fl_test))"
   ]
  },
  {
   "cell_type": "code",
   "execution_count": 195,
   "metadata": {},
   "outputs": [
    {
     "name": "stdout",
     "output_type": "stream",
     "text": [
      "Mean accuracy for train set =  0.9841077812982807\n"
     ]
    }
   ],
   "source": [
    "print(\"Mean accuracy for train set = \", statistics.mean(accuracy_fl_train))"
   ]
  },
  {
   "cell_type": "code",
   "execution_count": null,
   "metadata": {},
   "outputs": [],
   "source": []
  },
  {
   "cell_type": "markdown",
   "metadata": {},
   "source": [
    "# Artificial Neural Networks"
   ]
  },
  {
   "cell_type": "code",
   "execution_count": 224,
   "metadata": {},
   "outputs": [],
   "source": [
    "accuracy_ann_test = []\n",
    "accuracy_ann_train = []\n",
    "\n",
    "for i in range(7):\n",
    "    test_data = data_g[i]\n",
    "    test_data_x = []\n",
    "    test_data_y = []\n",
    "    train_data_x = []\n",
    "    train_data_y = []\n",
    "    for j in range(7):\n",
    "        if j!=i:\n",
    "            for w in range(len(data_g[j])):\n",
    "                train_data_x.append(data_g[j][w][:10])\n",
    "                train_data_y.append(data_g[j][w][10])\n",
    "        elif j == i:\n",
    "            for w in range(len(data_g[j])):\n",
    "                test_data_x.append(data_g[j][w][:10])\n",
    "                test_data_y.append(data_g[j][w][10])\n",
    "                \n",
    "    test_data_xn = np.array(test_data_x)\n",
    "    train_data_xn = np.array(train_data_x)\n",
    "    test_data_yn = np.array(test_data_y)\n",
    "    train_data_yn = np.array(train_data_y)\n",
    "    \n",
    "    clf = MLPClassifier(hidden_layer_sizes = (10, 10, 10, 10,), max_iter = 1000, activation = 'logistic', solver = 'adam', \n",
    "                        random_state = 1)\n",
    "    \n",
    "    clf.fit(train_data_xn, train_data_yn)\n",
    "    \n",
    "    test_pred_y_ann = clf.predict(test_data_xn)\n",
    "    train_pred_y_ann = clf.predict(train_data_xn)\n",
    "    \n",
    "    acc1_ann = accuracy_score(test_data_yn, test_pred_y_ann)\n",
    "    accuracy_ann_test.append(acc1_ann)\n",
    "    \n",
    "    acc2_ann = accuracy_score(train_data_yn, train_pred_y_ann)\n",
    "    accuracy_ann_train.append(acc2_ann)"
   ]
  },
  {
   "cell_type": "code",
   "execution_count": 225,
   "metadata": {},
   "outputs": [
    {
     "name": "stdout",
     "output_type": "stream",
     "text": [
      "Mean accuracy for test set =  0.987792087758206\n"
     ]
    }
   ],
   "source": [
    "print(\"Mean accuracy for test set = \", statistics.mean(accuracy_ann_test))"
   ]
  },
  {
   "cell_type": "code",
   "execution_count": 226,
   "metadata": {},
   "outputs": [
    {
     "name": "stdout",
     "output_type": "stream",
     "text": [
      "Mean accuracy for train set =  0.9876821550285966\n"
     ]
    }
   ],
   "source": [
    "print(\"Mean accuracy for train set = \", statistics.mean(accuracy_ann_train))"
   ]
  },
  {
   "cell_type": "code",
   "execution_count": null,
   "metadata": {},
   "outputs": [],
   "source": []
  },
  {
   "cell_type": "markdown",
   "metadata": {},
   "source": [
    "# Box Plot"
   ]
  },
  {
   "cell_type": "code",
   "execution_count": 289,
   "metadata": {},
   "outputs": [
    {
     "data": {
      "image/png": "[encoded data removed]",
      "text/plain": [
       "<Figure size 1440x720 with 1 Axes>"
      ]
     },
     "metadata": {
      "needs_background": "light"
     },
     "output_type": "display_data"
    }
   ],
   "source": [
    "fig = plt.figure(figsize = (20, 10))\n",
    "plt.boxplot([accuracy_log_test, accuracy_lp_test, accuracy_svm_test, accuracy_nb_test, accuracy_fl_test, accuracy_ann_test])\n",
    "\n",
    "plt.text(0.75, 0.98, \"Logistic Regression\")\n",
    "plt.text(0.80, statistics.mean(accuracy_log_test) + 0.0006, \"Mean: \" + str(round(statistics.mean(accuracy_log_test), 5)))\n",
    "\n",
    "plt.text(1.75, 0.99, \"Linear Perceptron\")\n",
    "plt.text(1.82, statistics.mean(accuracy_lp_test) + 0.0001, \"Mean: \" + str(round(statistics.mean(accuracy_lp_test), 5)))\n",
    "\n",
    "plt.text(2.70, 0.98, \"Support Vector Machine\")\n",
    "plt.text(2.82, statistics.mean(accuracy_svm_test) + 0.0002, \"Mean: \" + str(round(statistics.mean(accuracy_svm_test), 5)))\n",
    "\n",
    "plt.text(3.85, 0.98, \"Naive Bayes\")\n",
    "plt.text(3.80, statistics.mean(accuracy_nb_test) + 0.001, \"Mean: \" + str(round(statistics.mean(accuracy_nb_test), 5)))\n",
    "\n",
    "plt.text(4.68, 0.98, \"Fisher Linear Discriminant\")\n",
    "plt.text(4.80, statistics.mean(accuracy_fl_test) + 0.001, \"Mean: \" + str(round(statistics.mean(accuracy_fl_test), 5)))\n",
    "\n",
    "plt.text(5.68, 0.98, \"Artificial Neural Networks\")\n",
    "plt.text(5.80, statistics.mean(accuracy_ann_test), \"Mean: \" + str(round(statistics.mean(accuracy_ann_test), 5)))\n",
    "\n",
    "#plt.savefig(\"boxPlot.jpeg\")\n",
    "\n",
    "plt.show() "
   ]
  },
  {
   "cell_type": "code",
   "execution_count": null,
   "metadata": {},
   "outputs": [],
   "source": []
  },
  {
   "cell_type": "code",
   "execution_count": null,
   "metadata": {},
   "outputs": [],
   "source": []
  },
  {
   "cell_type": "code",
   "execution_count": null,
   "metadata": {},
   "outputs": [],
   "source": []
  }
 ],
 "metadata": {
  "kernelspec": {
   "display_name": "Python 3",
   "language": "python",
   "name": "python3"
  },
  "language_info": {
   "codemirror_mode": {
    "name": "ipython",
    "version": 3
   },
   "file_extension": ".py",
   "mimetype": "text/x-python",
   "name": "python",
   "nbconvert_exporter": "python",
   "pygments_lexer": "ipython3",
   "version": "3.7.3"
  }
 },
 "nbformat": 4,
 "nbformat_minor": 4
}
